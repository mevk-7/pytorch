{
 "cells": [
  {
   "cell_type": "code",
   "execution_count": 1,
   "metadata": {},
   "outputs": [],
   "source": [
    "import torch\n",
    "import torchvision\n",
    "import numpy as np\n",
    "import matplotlib.pyplot as plt"
   ]
  },
  {
   "cell_type": "code",
   "execution_count": 2,
   "metadata": {},
   "outputs": [],
   "source": [
    "from torchvision import datasets,transforms\n",
    "from torch.utils.data.sampler import RandomSampler"
   ]
  },
  {
   "cell_type": "code",
   "execution_count": 7,
   "metadata": {},
   "outputs": [
    {
     "name": "stdout",
     "output_type": "stream",
     "text": [
      "Files already downloaded and verified\n",
      "Files already downloaded and verified\n"
     ]
    }
   ],
   "source": [
    "# how many samples per batch to load\n",
    "batch_size = 20\n",
    "# percentage of training set to use as validation\n",
    "valid_size = 0.2\n",
    "\n",
    "# convert data to a normalized torch.FloatTensor\n",
    "transform = transforms.Compose([\n",
    "    transforms.ToTensor(),\n",
    "    transforms.Normalize((0.5, 0.5, 0.5), (0.5, 0.5, 0.5))\n",
    "    ])\n",
    "\n",
    "train_data = datasets.CIFAR10('/home/vikrant/.pytorch/Cifar10/',train=True,download=True,transform=transform)\n",
    "test_data = datasets.CIFAR10('/home/vikrant/.pytorch/Cifar10/',train=False,download=True,transform=transform)"
   ]
  },
  {
   "cell_type": "code",
   "execution_count": 8,
   "metadata": {},
   "outputs": [],
   "source": [
    "#split train dataset into train and valid set\n",
    "indices = list(range(len(train_data)))\n",
    "np.random.shuffle(indices)\n",
    "valid_size = int(np.float(len(train_data)*valid_size))\n",
    "train_indices,valid_indices = indices[valid_size:],indices[:valid_size]\n",
    "\n",
    "# define samplers for obtaining training and validation batches\n",
    "train_sampler = RandomSampler(train_indices)\n",
    "valid_sampler = RandomSampler(valid_indices)\n",
    "\n",
    "#define train ,valid and test loader\n",
    "trainloader = torch.utils.data.DataLoader(train_data,batch_size=batch_size,sampler=train_sampler)\n",
    "validloader = torch.utils.data.DataLoader(train_data,batch_size=batch_size,sampler=valid_sampler)\n",
    "testloader  = torch.utils.data.DataLoader(test_data,batch_size=batch_size)"
   ]
  },
  {
   "cell_type": "code",
   "execution_count": 9,
   "metadata": {},
   "outputs": [],
   "source": [
    "# specify the image classes\n",
    "classes = ['airplane', 'automobile', 'bird', 'cat', 'deer',\n",
    "           'dog', 'frog', 'horse', 'ship', 'truck']\n",
    "\n",
    "# helper function to un-normalize and display an image\n",
    "def imshow(img):\n",
    "    img = img / 2 + 0.5  # unnormalize\n",
    "    plt.imshow(np.transpose(img, (1, 2, 0)))  # convert from Tensor image"
   ]
  },
  {
   "cell_type": "code",
   "execution_count": 11,
   "metadata": {},
   "outputs": [
    {
     "data": {
      "image/png": "[encoded data removed]",
      "text/plain": [
       "<Figure size 432x288 with 1 Axes>"
      ]
     },
     "metadata": {
      "needs_background": "light"
     },
     "output_type": "display_data"
    }
   ],
   "source": [
    "# obtain one batch of training images\n",
    "dataiter = iter(trainloader)\n",
    "images, labels = dataiter.next()\n",
    "images = images.numpy() # convert images to numpy for display\n",
    "\n",
    "imshow(images[0])\n",
    "plt.title(classes[labels[0]])\n",
    "plt.show()"
   ]
  },
  {
   "cell_type": "code",
   "execution_count": 36,
   "metadata": {},
   "outputs": [
    {
     "data": {
      "text/plain": [
       "Network(\n",
       "  (conv1): Conv2d(3, 16, kernel_size=(3, 3), stride=(1, 1), padding=(1, 1))\n",
       "  (conv2): Conv2d(16, 32, kernel_size=(3, 3), stride=(1, 1), padding=(1, 1))\n",
       "  (maxpool1): MaxPool2d(kernel_size=2, stride=2, padding=0, dilation=1, ceil_mode=False)\n",
       "  (conv3): Conv2d(32, 64, kernel_size=(3, 3), stride=(1, 1), padding=(1, 1))\n",
       "  (conv4): Conv2d(64, 64, kernel_size=(3, 3), stride=(1, 1), padding=(1, 1))\n",
       "  (maxpool2): MaxPool2d(kernel_size=2, stride=2, padding=0, dilation=1, ceil_mode=False)\n",
       "  (conv5): Conv2d(64, 128, kernel_size=(3, 3), stride=(1, 1))\n",
       "  (conv6): Conv2d(128, 256, kernel_size=(3, 3), stride=(1, 1))\n",
       "  (maxpool3): MaxPool2d(kernel_size=2, stride=2, padding=0, dilation=1, ceil_mode=False)\n",
       "  (dropout): Dropout(p=0.25)\n",
       "  (fc1): Linear(in_features=1024, out_features=256, bias=True)\n",
       "  (fc2): Linear(in_features=256, out_features=10, bias=True)\n",
       ")"
      ]
     },
     "execution_count": 36,
     "metadata": {},
     "output_type": "execute_result"
    }
   ],
   "source": [
    "import torch.nn as nn\n",
    "import torch.nn.functional as F\n",
    "class Network(nn.Module):\n",
    "    \n",
    "    def __init__(self):\n",
    "        super(Network,self).__init__()\n",
    "        #Input size --> 32X32X3\n",
    "        self.conv1 = nn.Conv2d(3,16,3,padding=1)\n",
    "        #Input size --> 32X32X16\n",
    "        self.conv2 = nn.Conv2d(16,32,3,padding=1)\n",
    "        #Input size --> 32X32X32\n",
    "        self.maxpool1 = nn.MaxPool2d(2,2)\n",
    "        #Input size --> 16X16X32\n",
    "        self.conv3 = nn.Conv2d(32,64,3,padding=1)\n",
    "        #Input size --> 16X16X64\n",
    "        self.conv4 = nn.Conv2d(64,64,3,padding=1)\n",
    "        #Input size --> 16X16X64\n",
    "        self.maxpool2 = nn.MaxPool2d(2,2)\n",
    "        #Input size --> 8X8X64\n",
    "        self.conv5 = nn.Conv2d(64,128,3)\n",
    "        #Input size --> 6X6X128\n",
    "        self.conv6 = nn.Conv2d(128,256,3)\n",
    "        #Input size --> 4X4X256\n",
    "        self.maxpool3 = nn.MaxPool2d(2,2)\n",
    "        #Input size --> 2X2X256\n",
    "        self.dropout = nn.Dropout(0.25)\n",
    "        self.fc1 = nn.Linear(256*4,256)\n",
    "        self.fc2 = nn.Linear(256,10)\n",
    "        \n",
    "        \n",
    "    def forward(self,x):\n",
    "        x =  F.relu(self.conv1(x))\n",
    "        x =  F.relu(self.conv2(x))\n",
    "        x =  self.maxpool1(x)\n",
    "        \n",
    "        x =  F.relu(self.conv3(x))\n",
    "        x =  F.relu(self.conv4(x))\n",
    "        x =  self.maxpool2(x)\n",
    "        \n",
    "        x =  F.relu(self.conv5(x))\n",
    "        x =  F.relu(self.conv6(x))\n",
    "        x =  self.maxpool3(x)\n",
    "        \n",
    "        x = x.view(-1,256*4)\n",
    "        x = self.dropout(x)\n",
    "        x = F.relu(self.fc1(x))\n",
    "        \n",
    "        x = F.log_softmax(self.fc2(x))\n",
    "        \n",
    "        return x\n",
    "    \n",
    "model = Network()\n",
    "model\n",
    "        \n",
    "        \n",
    "        \n",
    "        "
   ]
  },
  {
   "cell_type": "code",
   "execution_count": 37,
   "metadata": {},
   "outputs": [
    {
     "data": {
      "text/plain": [
       "True"
      ]
     },
     "execution_count": 37,
     "metadata": {},
     "output_type": "execute_result"
    }
   ],
   "source": [
    "train_on_cuda = torch.cuda.is_available()\n",
    "train_on_cuda"
   ]
  },
  {
   "cell_type": "code",
   "execution_count": 38,
   "metadata": {},
   "outputs": [
    {
     "data": {
      "text/plain": [
       "device(type='cuda')"
      ]
     },
     "execution_count": 38,
     "metadata": {},
     "output_type": "execute_result"
    }
   ],
   "source": [
    "if train_on_cuda:\n",
    "    model.cuda()\n",
    "    \n",
    "device = torch.device(\"cuda\" if train_on_cuda else \"cpu\")\n",
    "device"
   ]
  },
  {
   "cell_type": "code",
   "execution_count": 39,
   "metadata": {},
   "outputs": [],
   "source": [
    "#define loss and optimizer\n",
    "import torch.optim as optim\n",
    "optimizer = optim.Adam(model.parameters(),lr=0.003)\n",
    "criterion = nn.NLLLoss()\n",
    "\n"
   ]
  },
  {
   "cell_type": "code",
   "execution_count": 40,
   "metadata": {},
   "outputs": [
    {
     "name": "stderr",
     "output_type": "stream",
     "text": [
      "/home/vikrant/miniconda3/envs/pytorch/lib/python3.7/site-packages/ipykernel_launcher.py:48: UserWarning: Implicit dimension choice for log_softmax has been deprecated. Change the call to include dim=X as an argument.\n"
     ]
    },
    {
     "name": "stdout",
     "output_type": "stream",
     "text": [
      "Epoch : 1/30 \t Accuracy : 39.800 \t Train Loss: 1.868 \t Test Loss: 1.643\n",
      "Saving model ... \n",
      " Min loss at previous epochs inf \t Loss at current epoch 1.643\n",
      "Epoch : 2/30 \t Accuracy : 49.270 \t Train Loss: 1.535 \t Test Loss: 1.402\n",
      "Saving model ... \n",
      " Min loss at previous epochs 1.643 \t Loss at current epoch 1.402\n",
      "Epoch : 3/30 \t Accuracy : 48.970 \t Train Loss: 1.456 \t Test Loss: 1.411\n",
      "Epoch : 4/30 \t Accuracy : 54.200 \t Train Loss: 1.407 \t Test Loss: 1.270\n",
      "Saving model ... \n",
      " Min loss at previous epochs 1.402 \t Loss at current epoch 1.270\n",
      "Epoch : 5/30 \t Accuracy : 51.610 \t Train Loss: 1.371 \t Test Loss: 1.339\n",
      "Epoch : 6/30 \t Accuracy : 55.970 \t Train Loss: 1.339 \t Test Loss: 1.237\n",
      "Saving model ... \n",
      " Min loss at previous epochs 1.270 \t Loss at current epoch 1.237\n",
      "Epoch : 7/30 \t Accuracy : 56.970 \t Train Loss: 1.307 \t Test Loss: 1.192\n",
      "Saving model ... \n",
      " Min loss at previous epochs 1.237 \t Loss at current epoch 1.192\n",
      "Epoch : 8/30 \t Accuracy : 58.190 \t Train Loss: 1.287 \t Test Loss: 1.156\n",
      "Saving model ... \n",
      " Min loss at previous epochs 1.192 \t Loss at current epoch 1.156\n",
      "Epoch : 9/30 \t Accuracy : 58.920 \t Train Loss: 1.265 \t Test Loss: 1.146\n",
      "Saving model ... \n",
      " Min loss at previous epochs 1.156 \t Loss at current epoch 1.146\n",
      "Epoch : 10/30 \t Accuracy : 59.430 \t Train Loss: 1.268 \t Test Loss: 1.153\n",
      "Epoch : 11/30 \t Accuracy : 60.170 \t Train Loss: 1.245 \t Test Loss: 1.131\n",
      "Saving model ... \n",
      " Min loss at previous epochs 1.146 \t Loss at current epoch 1.131\n",
      "Epoch : 12/30 \t Accuracy : 61.140 \t Train Loss: 1.235 \t Test Loss: 1.084\n",
      "Saving model ... \n",
      " Min loss at previous epochs 1.131 \t Loss at current epoch 1.084\n",
      "Epoch : 13/30 \t Accuracy : 61.250 \t Train Loss: 1.219 \t Test Loss: 1.089\n",
      "Epoch : 14/30 \t Accuracy : 60.130 \t Train Loss: 1.214 \t Test Loss: 1.133\n",
      "Epoch : 15/30 \t Accuracy : 60.780 \t Train Loss: 1.201 \t Test Loss: 1.102\n",
      "Epoch : 16/30 \t Accuracy : 62.730 \t Train Loss: 1.193 \t Test Loss: 1.050\n",
      "Saving model ... \n",
      " Min loss at previous epochs 1.084 \t Loss at current epoch 1.050\n",
      "Epoch : 17/30 \t Accuracy : 59.970 \t Train Loss: 1.201 \t Test Loss: 1.128\n",
      "Epoch : 18/30 \t Accuracy : 62.330 \t Train Loss: 1.188 \t Test Loss: 1.053\n",
      "Epoch : 19/30 \t Accuracy : 62.080 \t Train Loss: 1.183 \t Test Loss: 1.075\n",
      "Epoch : 20/30 \t Accuracy : 58.200 \t Train Loss: 1.183 \t Test Loss: 1.172\n",
      "Epoch : 21/30 \t Accuracy : 62.150 \t Train Loss: 1.176 \t Test Loss: 1.073\n",
      "Epoch : 22/30 \t Accuracy : 63.550 \t Train Loss: 1.171 \t Test Loss: 1.026\n",
      "Saving model ... \n",
      " Min loss at previous epochs 1.050 \t Loss at current epoch 1.026\n",
      "Epoch : 23/30 \t Accuracy : 62.510 \t Train Loss: 1.160 \t Test Loss: 1.056\n",
      "Epoch : 24/30 \t Accuracy : 59.630 \t Train Loss: 1.159 \t Test Loss: 1.154\n",
      "Epoch : 25/30 \t Accuracy : 63.420 \t Train Loss: 1.157 \t Test Loss: 1.038\n",
      "Epoch : 26/30 \t Accuracy : 62.930 \t Train Loss: 1.156 \t Test Loss: 1.057\n",
      "Epoch : 27/30 \t Accuracy : 64.260 \t Train Loss: 1.152 \t Test Loss: 1.039\n",
      "Epoch : 28/30 \t Accuracy : 65.150 \t Train Loss: 1.142 \t Test Loss: 0.994\n",
      "Saving model ... \n",
      " Min loss at previous epochs 1.026 \t Loss at current epoch 0.994\n",
      "Epoch : 29/30 \t Accuracy : 64.280 \t Train Loss: 1.131 \t Test Loss: 1.018\n",
      "Epoch : 30/30 \t Accuracy : 63.590 \t Train Loss: 1.120 \t Test Loss: 1.033\n"
     ]
    }
   ],
   "source": [
    "epochs = 30\n",
    "valid_loss_min = np.Inf\n",
    "train_loss_list =[]\n",
    "valid_loss_list =[]\n",
    "for e in range(1,epochs+1):\n",
    "    train_loss = 0.0\n",
    "    valid_loss = 0.0\n",
    "    acc = 0\n",
    "    for images,labels in trainloader:\n",
    "        #move images ,labels to gpu\n",
    "        images,labels = images.to(device),labels.to(device)\n",
    "        #clear all gradient\n",
    "        optimizer.zero_grad()\n",
    "        #feed forward along model to get log softmax\n",
    "        ps_log = model.forward(images)\n",
    "        #compute loss\n",
    "        loss = criterion(ps_log,labels)\n",
    "        #compute gradient\n",
    "        loss.backward()\n",
    "        #do one optimizer step\n",
    "        optimizer.step()\n",
    "        \n",
    "        train_loss += loss.item()\n",
    "    else:\n",
    "        #turn off auto grad\n",
    "        with torch.no_grad():\n",
    "            #run model in eval mode\n",
    "            model.eval()\n",
    "            for images,labels in validloader:\n",
    "                #move variables to gpu\n",
    "                images,labels = images.to(device),labels.to(device)\n",
    "                #compute model prediction \n",
    "                ps_log = model.forward(images)\n",
    "                ps = torch.exp(ps_log)\n",
    "                #compute loss\n",
    "                loss = criterion(ps_log,labels)\n",
    "                valid_loss += loss.item()\n",
    "                \n",
    "                _,top_class = ps.topk(1,dim=1)\n",
    "                \n",
    "                equal = top_class == labels.view(*top_class.shape)\n",
    "                acc += torch.mean(equal.type(torch.FloatTensor)).item()\n",
    "            model.train()\n",
    "    train_loss = train_loss / len(trainloader)\n",
    "    valid_loss = valid_loss / len(validloader)\n",
    "    \n",
    "    train_loss_list.append(train_loss)\n",
    "    valid_loss_list.append(valid_loss)\n",
    "    \n",
    "    print(\"Epoch : {}/{}\".format(e,epochs),\n",
    "         \"\\t Accuracy : {:.3f}\".format((acc/len(validloader))*100),\n",
    "         \"\\t Train Loss: {:.3f}\".format(train_loss),\n",
    "         \"\\t Test Loss: {:.3f}\".format(valid_loss))\n",
    "    if valid_loss < valid_loss_min:\n",
    "        print(\"Saving model ...\",\n",
    "             \"\\n Min loss at previous epochs {:.3f}\".format(valid_loss_min),\n",
    "             \"\\t Loss at current epoch {:.3f}\".format(valid_loss))\n",
    "        torch.save(model.state_dict(), 'model_cifar.pt')\n",
    "        valid_loss_min = valid_loss\n",
    "        \n",
    "    \n",
    "        \n",
    "                \n",
    "                \n",
    "        \n",
    "        \n",
    "        \n",
    "        \n",
    "        "
   ]
  },
  {
   "cell_type": "code",
   "execution_count": 47,
   "metadata": {},
   "outputs": [],
   "source": [
    "model.load_state_dict(torch.load('model_cifar.pt'))"
   ]
  },
  {
   "cell_type": "code",
   "execution_count": 61,
   "metadata": {},
   "outputs": [
    {
     "name": "stderr",
     "output_type": "stream",
     "text": [
      "/home/vikrant/miniconda3/envs/pytorch/lib/python3.7/site-packages/ipykernel_launcher.py:48: UserWarning: Implicit dimension choice for log_softmax has been deprecated. Change the call to include dim=X as an argument.\n"
     ]
    },
    {
     "data": {
      "image/png": "[encoded data removed]",
      "text/plain": [
       "<Figure size 432x288 with 1 Axes>"
      ]
     },
     "metadata": {
      "needs_background": "light"
     },
     "output_type": "display_data"
    }
   ],
   "source": [
    "# obtain one batch of training images\n",
    "dataiter = iter(trainloader)\n",
    "images, labels = dataiter.next()\n",
    "############\n",
    "#prediction#\n",
    "###########\n",
    "images = images.to(device)\n",
    "log_ps = model.forward(images)\n",
    "ps = model.forward(images)\n",
    "_,top_class = ps.topk(1,dim=1)\n",
    "top_class = top_class.to(torch.device(\"cpu\"))\n",
    "images = images.to(torch.device(\"cpu\"))\n",
    "\n",
    "top_class = top_class.numpy() #convert prediction from tensor to numpy array\n",
    "top_class = np.squeeze(top_class)\n",
    "images = images.numpy() # convert images to numpy for display\n",
    "#print(top_class)\n",
    "imshow(images[5])\n",
    "plt.title(classes[top_class[5]])\n",
    "plt.show()\n"
   ]
  },
  {
   "cell_type": "code",
   "execution_count": null,
   "metadata": {},
   "outputs": [],
   "source": []
  },
  {
   "cell_type": "code",
   "execution_count": null,
   "metadata": {},
   "outputs": [],
   "source": []
  }
 ],
 "metadata": {
  "kernelspec": {
   "display_name": "Python (pytorch)",
   "language": "python",
   "name": "pytorch"
  },
  "language_info": {
   "codemirror_mode": {
    "name": "ipython",
    "version": 3
   },
   "file_extension": ".py",
   "mimetype": "text/x-python",
   "name": "python",
   "nbconvert_exporter": "python",
   "pygments_lexer": "ipython3",
   "version": "3.7.0"
  }
 },
 "nbformat": 4,
 "nbformat_minor": 2
}
